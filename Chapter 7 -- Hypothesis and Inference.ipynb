{
 "cells": [
  {
   "cell_type": "code",
   "execution_count": 1,
   "metadata": {
    "collapsed": true
   },
   "outputs": [],
   "source": [
    "from __future__ import division\n",
    "from authorcode.probability import normal_cdf, inverse_normal_cdf\n",
    "import math, random"
   ]
  },
  {
   "cell_type": "code",
   "execution_count": 2,
   "metadata": {
    "collapsed": true
   },
   "outputs": [],
   "source": [
    "# under various assumptions, think of statistics as observations of random\n",
    "# variables from known distributions, which allows us to make statements about\n",
    "# how likely those are to hold"
   ]
  },
  {
   "cell_type": "code",
   "execution_count": 3,
   "metadata": {
    "collapsed": true
   },
   "outputs": [],
   "source": [
    "# H_0: coin is fair\n",
    "# H_a: coin is not fair\n",
    "\n",
    "# can approximate bernoulli trials with normal distribution\n",
    "\n",
    "def normal_approximation_to_binomial(n, p):\n",
    "    '''finds Normal mu and sigma correseponding to Binomial(n,p)'''\n",
    "    mu = p * n\n",
    "    sigma = math.sqrt(p * (1 - p) * n)\n",
    "    return mu, sigma"
   ]
  },
  {
   "cell_type": "code",
   "execution_count": 10,
   "metadata": {
    "collapsed": false
   },
   "outputs": [
    {
     "name": "stdout",
     "output_type": "stream",
     "text": [
      "def normal_cdf(x, mu=0,sigma=1):\n",
      "    return (1 + math.erf((x - mu) / math.sqrt(2) / sigma)) / 2  \n",
      "\n",
      "def inverse_normal_cdf(p, mu=0, sigma=1, tolerance=0.00001):\n",
      "    \"\"\"find approximate inverse using binary search\"\"\"\n",
      "\n",
      "    # if not standard, compute standard and rescale\n",
      "    if mu != 0 or sigma != 1:\n",
      "        return mu + sigma * inverse_normal_cdf(p, tolerance=tolerance)\n",
      "    \n",
      "    low_z, low_p = -10.0, 0            # normal_cdf(-10) is (very close to) 0\n",
      "    hi_z,  hi_p  =  10.0, 1            # normal_cdf(10)  is (very close to) 1\n",
      "    while hi_z - low_z > tolerance:\n",
      "        mid_z = (low_z + hi_z) / 2     # consider the midpoint\n",
      "        mid_p = normal_cdf(mid_z)      # and the cdf's value there\n",
      "        if mid_p < p:\n",
      "            # midpoint is still too low, search above it\n",
      "            low_z, low_p = mid_z, mid_p\n",
      "        elif mid_p > p:\n",
      "            # midpoint is still too high, search below it\n",
      "            hi_z, hi_p = mid_z, mid_p\n",
      "        else:\n",
      "            break\n",
      "\n",
      "    return mid_z\n",
      "\n"
     ]
    }
   ],
   "source": [
    "# when a RV follows a normal distribution, can use normal_cdf to get \n",
    "# probability that realized value lies within/outside interval\n",
    "\n",
    "import inspect\n",
    "\n",
    "print inspect.getsource(normal_cdf)\n",
    "print inspect.getsource(inverse_normal_cdf)"
   ]
  },
  {
   "cell_type": "code",
   "execution_count": 9,
   "metadata": {
    "collapsed": true
   },
   "outputs": [],
   "source": [
    "normal_probability_below = normal_cdf\n",
    "\n",
    "def normal_probability_above(lo, mu = 0, sigma = 1):\n",
    "    return 1 - normal_cdf(lo, mu, sigma)\n",
    "\n",
    "def normal_probability_between(lo, hi, mu = 0, sigma = 1):\n",
    "    return normal_cdf(hi, mu, sigma) - normal_cdf(lo, mu, sigma)\n",
    "\n",
    "def normal_probability_outside(lo, hi, mu = 0, sigma = 1):\n",
    "    return 1 - normal_probability_between(lo, hi, mu, sigma)"
   ]
  },
  {
   "cell_type": "code",
   "execution_count": 11,
   "metadata": {
    "collapsed": true
   },
   "outputs": [],
   "source": [
    "def normal_upper_bound(probability, mu = 0, sigma = 1):\n",
    "    '''returns the z for which P(Z <= z) = probability'''\n",
    "    return inverse_normal_cdf(probability, mu, sigma)\n",
    "\n",
    "def normal_lower_bound(probability, mu = 0, sigma = 1):\n",
    "    '''returns the z for which P(Z >= z) = probability'''\n",
    "    return inverse_normal_cdf(1 - probability, mu, sigma)\n",
    "\n",
    "def normal_two_sided_bounds(probability, mu=0, sigma=1):\n",
    "    \"\"\"returns the symmetric (about the mean) bounds \n",
    "    that contain the specified probability\"\"\"\n",
    "    tail_probability = (1 - probability) / 2\n",
    "\n",
    "    # upper bound should have tail_probability above it\n",
    "    upper_bound = normal_lower_bound(tail_probability, mu, sigma)\n",
    "\n",
    "    # lower bound should have tail_probability below it\n",
    "    lower_bound = normal_upper_bound(tail_probability, mu, sigma)\n",
    "\n",
    "    return lower_bound, upper_bound"
   ]
  },
  {
   "cell_type": "code",
   "execution_count": 13,
   "metadata": {
    "collapsed": false
   },
   "outputs": [
    {
     "name": "stdout",
     "output_type": "stream",
     "text": [
      "500.0\n",
      "15.8113883008\n"
     ]
    }
   ],
   "source": [
    "# approximation of 1000 coin flips\n",
    "\n",
    "mu_0, sigma_0 = normal_approximation_to_binomial(1000, 0.5)\n",
    "print mu_0\n",
    "print sigma_0"
   ]
  },
  {
   "cell_type": "code",
   "execution_count": 15,
   "metadata": {
    "collapsed": false
   },
   "outputs": [
    {
     "data": {
      "text/plain": [
       "(469.01026640487555, 530.9897335951244)"
      ]
     },
     "execution_count": 15,
     "metadata": {},
     "output_type": "execute_result"
    }
   ],
   "source": [
    "# we need to make a decision about SIGNIFICANCE\n",
    "# Q: How willing are we to make a Type I error (\"false positive\") where we reject H_0 when it's true?\n",
    "# usually 1% or 5% (significance)\n",
    "\n",
    "normal_two_sided_bounds(0.95, mu_0, sigma_0)"
   ]
  },
  {
   "cell_type": "code",
   "execution_count": 20,
   "metadata": {
    "collapsed": true
   },
   "outputs": [],
   "source": [
    "# power: probability of NOT making a Type II error\n",
    "# where we fail to reject H_0 when we know it's false\n",
    "\n",
    "# knowing merely that H_0 is not true does not give lots of information about the distribution\n",
    "\n",
    "# let's check what happens if p is really 0.55 and calculate power"
   ]
  },
  {
   "cell_type": "code",
   "execution_count": 23,
   "metadata": {
    "collapsed": false
   },
   "outputs": [
    {
     "name": "stdout",
     "output_type": "stream",
     "text": [
      "power 0.886548001295\n"
     ]
    }
   ],
   "source": [
    "# 95% bounds based on assumption p is 0.5\n",
    "\n",
    "lo, hi = normal_two_sided_bounds(0.95, mu_0, sigma_0)\n",
    "\n",
    "# actual mu and sigma based on p = 0.55\n",
    "\n",
    "mu_1, sigma_1 = normal_approximation_to_binomial(1000, 0.55)\n",
    "\n",
    "# a type 2 error means we fail to reject null hypothesis\n",
    "# which will happen when X is still in our original interval\n",
    "\n",
    "type_2_probability = normal_probability_between(lo, hi, mu_1, sigma_1) # prob of accepting H_0 under actual distribution\n",
    "power = 1 - type_2_probability\n",
    "print 'power', power"
   ]
  },
  {
   "cell_type": "code",
   "execution_count": 24,
   "metadata": {
    "collapsed": false
   },
   "outputs": [
    {
     "name": "stdout",
     "output_type": "stream",
     "text": [
      "hi 526.007358524\n",
      "power 0.936379480331\n"
     ]
    }
   ],
   "source": [
    "# H_0: coin not biased towards heads (Prop of heads = 0.5)\n",
    "# H_a: coin biased towards heads (Prop of heads > 0.5)\n",
    "\n",
    "# one-sided test: reject when X much larger than 50, but not when smaller than 50\n",
    "\n",
    "hi = normal_upper_bound(0.95, mu_0, sigma_0)\n",
    "print 'hi', hi\n",
    "\n",
    "type_2_probability = normal_probability_below(hi, mu_1, sigma_1)\n",
    "power = 1 - type_2_probability\n",
    "print 'power', power"
   ]
  },
  {
   "cell_type": "markdown",
   "metadata": {},
   "source": [
    "# p-values\n",
    "the probability, assuming H_0 is true, that we would see a value at least as extreme as one we observed"
   ]
  },
  {
   "cell_type": "code",
   "execution_count": 1,
   "metadata": {
    "collapsed": true
   },
   "outputs": [],
   "source": [
    "def two_sided_p_value(x, mu = 0, sigma = 1):\n",
    "    if x >= mu:\n",
    "        # if x is greater than the mean, the tail is what's greater than x\n",
    "        return 2 * normal_probability_above(x, mu, sigma)\n",
    "    else:\n",
    "        # if x is less than the mean, the tail is what's less than x\n",
    "        return 2 * normal_probability_below(x, mu, sigma)"
   ]
  },
  {
   "cell_type": "code",
   "execution_count": null,
   "metadata": {
    "collapsed": true
   },
   "outputs": [],
   "source": []
  }
 ],
 "metadata": {
  "kernelspec": {
   "display_name": "Python 2",
   "language": "python",
   "name": "python2"
  },
  "language_info": {
   "codemirror_mode": {
    "name": "ipython",
    "version": 2
   },
   "file_extension": ".py",
   "mimetype": "text/x-python",
   "name": "python",
   "nbconvert_exporter": "python",
   "pygments_lexer": "ipython2",
   "version": "2.7.8"
  }
 },
 "nbformat": 4,
 "nbformat_minor": 0
}
